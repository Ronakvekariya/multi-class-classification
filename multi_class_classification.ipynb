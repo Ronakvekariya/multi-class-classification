{
 "cells": [
  {
   "cell_type": "code",
   "execution_count": 1,
   "id": "77ef6023-4b02-4058-93e8-3caca0dc5b0a",
   "metadata": {},
   "outputs": [],
   "source": [
    "import pandas as pd\n",
    "import numpy as np\n",
    "import matplotlib.pyplot as plt\n",
    "import plotly.express as px\n",
    "import opendatasets as od\n",
    "import os\n",
    "from sklearn.model_selection import train_test_split\n",
    "from sklearn.linear_model import LogisticRegression"
   ]
  },
  {
   "cell_type": "code",
   "execution_count": 2,
   "id": "c448e5c2-0aeb-42bd-b627-d87011be934f",
   "metadata": {},
   "outputs": [],
   "source": [
    "data_dir = \"D://Ronak//Python//multi_class classification\""
   ]
  },
  {
   "cell_type": "code",
   "execution_count": 3,
   "id": "dc220cea-b6a8-4e9f-b4ed-5be0d1462dde",
   "metadata": {},
   "outputs": [
    {
     "data": {
      "text/plain": [
       "['.ipynb_checkpoints', 'IRIS.csv', 'multi_class_classification.ipynb']"
      ]
     },
     "execution_count": 3,
     "metadata": {},
     "output_type": "execute_result"
    }
   ],
   "source": [
    "os.listdir(data_dir)"
   ]
  },
  {
   "cell_type": "code",
   "execution_count": 4,
   "id": "b9803b0f-96f8-4d7f-87c5-6d26b7f05bec",
   "metadata": {},
   "outputs": [],
   "source": [
    "csv = data_dir + \"/IRIS.csv\""
   ]
  },
  {
   "cell_type": "code",
   "execution_count": 5,
   "id": "402defb7-7502-47c5-a259-a2eec9286aaa",
   "metadata": {},
   "outputs": [],
   "source": [
    "data = pd.read_csv(csv)"
   ]
  },
  {
   "cell_type": "code",
   "execution_count": 6,
   "id": "94129894-c950-4200-89a8-c25f2f3de7fd",
   "metadata": {},
   "outputs": [
    {
     "name": "stdout",
     "output_type": "stream",
     "text": [
      "     sepal_length  sepal_width  petal_length  petal_width         species\n",
      "0             5.1          3.5           1.4          0.2     Iris-setosa\n",
      "1             4.9          3.0           1.4          0.2     Iris-setosa\n",
      "2             4.7          3.2           1.3          0.2     Iris-setosa\n",
      "3             4.6          3.1           1.5          0.2     Iris-setosa\n",
      "4             5.0          3.6           1.4          0.2     Iris-setosa\n",
      "..            ...          ...           ...          ...             ...\n",
      "145           6.7          3.0           5.2          2.3  Iris-virginica\n",
      "146           6.3          2.5           5.0          1.9  Iris-virginica\n",
      "147           6.5          3.0           5.2          2.0  Iris-virginica\n",
      "148           6.2          3.4           5.4          2.3  Iris-virginica\n",
      "149           5.9          3.0           5.1          1.8  Iris-virginica\n",
      "\n",
      "[150 rows x 5 columns]\n"
     ]
    }
   ],
   "source": [
    "print(data)"
   ]
  },
  {
   "cell_type": "code",
   "execution_count": 7,
   "id": "78a6a11d-5249-4a4e-a476-de24ba3d1381",
   "metadata": {},
   "outputs": [
    {
     "data": {
      "text/plain": [
       "sepal_length    0\n",
       "sepal_width     0\n",
       "petal_length    0\n",
       "petal_width     0\n",
       "species         0\n",
       "dtype: int64"
      ]
     },
     "execution_count": 7,
     "metadata": {},
     "output_type": "execute_result"
    }
   ],
   "source": [
    "data.isna().sum()"
   ]
  },
  {
   "cell_type": "code",
   "execution_count": 8,
   "id": "d23d3675-5d6b-440d-be18-5e5f7e48d668",
   "metadata": {},
   "outputs": [
    {
     "name": "stdout",
     "output_type": "stream",
     "text": [
      "<class 'pandas.core.frame.DataFrame'>\n",
      "RangeIndex: 150 entries, 0 to 149\n",
      "Data columns (total 5 columns):\n",
      " #   Column        Non-Null Count  Dtype  \n",
      "---  ------        --------------  -----  \n",
      " 0   sepal_length  150 non-null    float64\n",
      " 1   sepal_width   150 non-null    float64\n",
      " 2   petal_length  150 non-null    float64\n",
      " 3   petal_width   150 non-null    float64\n",
      " 4   species       150 non-null    object \n",
      "dtypes: float64(4), object(1)\n",
      "memory usage: 6.0+ KB\n"
     ]
    }
   ],
   "source": [
    "data.info()"
   ]
  },
  {
   "cell_type": "code",
   "execution_count": 9,
   "id": "d02e2aed-3cbe-45f9-9b7f-1b4ed531c161",
   "metadata": {},
   "outputs": [],
   "source": [
    "input_data = data[['sepal_length','sepal_width','petal_length','petal_width']]"
   ]
  },
  {
   "cell_type": "code",
   "execution_count": 10,
   "id": "87a48d2e-2a0c-4a81-897a-904057757202",
   "metadata": {},
   "outputs": [
    {
     "name": "stdout",
     "output_type": "stream",
     "text": [
      "     sepal_length  sepal_width  petal_length  petal_width\n",
      "0             5.1          3.5           1.4          0.2\n",
      "1             4.9          3.0           1.4          0.2\n",
      "2             4.7          3.2           1.3          0.2\n",
      "3             4.6          3.1           1.5          0.2\n",
      "4             5.0          3.6           1.4          0.2\n",
      "..            ...          ...           ...          ...\n",
      "145           6.7          3.0           5.2          2.3\n",
      "146           6.3          2.5           5.0          1.9\n",
      "147           6.5          3.0           5.2          2.0\n",
      "148           6.2          3.4           5.4          2.3\n",
      "149           5.9          3.0           5.1          1.8\n",
      "\n",
      "[150 rows x 4 columns]\n"
     ]
    }
   ],
   "source": [
    "print(input_data)"
   ]
  },
  {
   "cell_type": "code",
   "execution_count": 11,
   "id": "362f3a3a-1187-4d0e-8793-816ef0a2ad34",
   "metadata": {},
   "outputs": [],
   "source": [
    "output_data = data['species']"
   ]
  },
  {
   "cell_type": "code",
   "execution_count": 12,
   "id": "d7c6abca-1570-4ddb-9cbd-46d836009f11",
   "metadata": {},
   "outputs": [
    {
     "name": "stdout",
     "output_type": "stream",
     "text": [
      "0         Iris-setosa\n",
      "1         Iris-setosa\n",
      "2         Iris-setosa\n",
      "3         Iris-setosa\n",
      "4         Iris-setosa\n",
      "            ...      \n",
      "145    Iris-virginica\n",
      "146    Iris-virginica\n",
      "147    Iris-virginica\n",
      "148    Iris-virginica\n",
      "149    Iris-virginica\n",
      "Name: species, Length: 150, dtype: object\n"
     ]
    }
   ],
   "source": [
    "print(output_data)"
   ]
  },
  {
   "cell_type": "code",
   "execution_count": 13,
   "id": "cce1bebd-5dd8-43dd-9919-7cea7b2a1701",
   "metadata": {},
   "outputs": [],
   "source": [
    "train_input,test_input,train_output,test_output = train_test_split(input_data,output_data , test_size = 0.25 , random_state = 42)"
   ]
  },
  {
   "cell_type": "code",
   "execution_count": 14,
   "id": "6fb262cb-154f-4e0e-b81a-f0a2f49f8eca",
   "metadata": {},
   "outputs": [
    {
     "name": "stdout",
     "output_type": "stream",
     "text": [
      "     sepal_length  sepal_width  petal_length  petal_width\n",
      "4             5.0          3.6           1.4          0.2\n",
      "32            5.2          4.1           1.5          0.1\n",
      "142           5.8          2.7           5.1          1.9\n",
      "85            6.0          3.4           4.5          1.6\n",
      "86            6.7          3.1           4.7          1.5\n",
      "..            ...          ...           ...          ...\n",
      "71            6.1          2.8           4.0          1.3\n",
      "106           4.9          2.5           4.5          1.7\n",
      "14            5.8          4.0           1.2          0.2\n",
      "92            5.8          2.6           4.0          1.2\n",
      "102           7.1          3.0           5.9          2.1\n",
      "\n",
      "[112 rows x 4 columns]\n"
     ]
    }
   ],
   "source": [
    "print(train_input)"
   ]
  },
  {
   "cell_type": "code",
   "execution_count": 15,
   "id": "fdfb8116-5d71-455f-bca4-909cc6f69596",
   "metadata": {},
   "outputs": [],
   "source": [
    "model = LogisticRegression(multi_class = 'multinomial' , solver = 'lbfgs')"
   ]
  },
  {
   "cell_type": "code",
   "execution_count": 16,
   "id": "6d4059db-35b3-41c4-a9d7-565a4d73eaec",
   "metadata": {},
   "outputs": [
    {
     "data": {
      "text/html": [
       "<style>#sk-container-id-1 {color: black;}#sk-container-id-1 pre{padding: 0;}#sk-container-id-1 div.sk-toggleable {background-color: white;}#sk-container-id-1 label.sk-toggleable__label {cursor: pointer;display: block;width: 100%;margin-bottom: 0;padding: 0.3em;box-sizing: border-box;text-align: center;}#sk-container-id-1 label.sk-toggleable__label-arrow:before {content: \"▸\";float: left;margin-right: 0.25em;color: #696969;}#sk-container-id-1 label.sk-toggleable__label-arrow:hover:before {color: black;}#sk-container-id-1 div.sk-estimator:hover label.sk-toggleable__label-arrow:before {color: black;}#sk-container-id-1 div.sk-toggleable__content {max-height: 0;max-width: 0;overflow: hidden;text-align: left;background-color: #f0f8ff;}#sk-container-id-1 div.sk-toggleable__content pre {margin: 0.2em;color: black;border-radius: 0.25em;background-color: #f0f8ff;}#sk-container-id-1 input.sk-toggleable__control:checked~div.sk-toggleable__content {max-height: 200px;max-width: 100%;overflow: auto;}#sk-container-id-1 input.sk-toggleable__control:checked~label.sk-toggleable__label-arrow:before {content: \"▾\";}#sk-container-id-1 div.sk-estimator input.sk-toggleable__control:checked~label.sk-toggleable__label {background-color: #d4ebff;}#sk-container-id-1 div.sk-label input.sk-toggleable__control:checked~label.sk-toggleable__label {background-color: #d4ebff;}#sk-container-id-1 input.sk-hidden--visually {border: 0;clip: rect(1px 1px 1px 1px);clip: rect(1px, 1px, 1px, 1px);height: 1px;margin: -1px;overflow: hidden;padding: 0;position: absolute;width: 1px;}#sk-container-id-1 div.sk-estimator {font-family: monospace;background-color: #f0f8ff;border: 1px dotted black;border-radius: 0.25em;box-sizing: border-box;margin-bottom: 0.5em;}#sk-container-id-1 div.sk-estimator:hover {background-color: #d4ebff;}#sk-container-id-1 div.sk-parallel-item::after {content: \"\";width: 100%;border-bottom: 1px solid gray;flex-grow: 1;}#sk-container-id-1 div.sk-label:hover label.sk-toggleable__label {background-color: #d4ebff;}#sk-container-id-1 div.sk-serial::before {content: \"\";position: absolute;border-left: 1px solid gray;box-sizing: border-box;top: 0;bottom: 0;left: 50%;z-index: 0;}#sk-container-id-1 div.sk-serial {display: flex;flex-direction: column;align-items: center;background-color: white;padding-right: 0.2em;padding-left: 0.2em;position: relative;}#sk-container-id-1 div.sk-item {position: relative;z-index: 1;}#sk-container-id-1 div.sk-parallel {display: flex;align-items: stretch;justify-content: center;background-color: white;position: relative;}#sk-container-id-1 div.sk-item::before, #sk-container-id-1 div.sk-parallel-item::before {content: \"\";position: absolute;border-left: 1px solid gray;box-sizing: border-box;top: 0;bottom: 0;left: 50%;z-index: -1;}#sk-container-id-1 div.sk-parallel-item {display: flex;flex-direction: column;z-index: 1;position: relative;background-color: white;}#sk-container-id-1 div.sk-parallel-item:first-child::after {align-self: flex-end;width: 50%;}#sk-container-id-1 div.sk-parallel-item:last-child::after {align-self: flex-start;width: 50%;}#sk-container-id-1 div.sk-parallel-item:only-child::after {width: 0;}#sk-container-id-1 div.sk-dashed-wrapped {border: 1px dashed gray;margin: 0 0.4em 0.5em 0.4em;box-sizing: border-box;padding-bottom: 0.4em;background-color: white;}#sk-container-id-1 div.sk-label label {font-family: monospace;font-weight: bold;display: inline-block;line-height: 1.2em;}#sk-container-id-1 div.sk-label-container {text-align: center;}#sk-container-id-1 div.sk-container {/* jupyter's `normalize.less` sets `[hidden] { display: none; }` but bootstrap.min.css set `[hidden] { display: none !important; }` so we also need the `!important` here to be able to override the default hidden behavior on the sphinx rendered scikit-learn.org. See: https://github.com/scikit-learn/scikit-learn/issues/21755 */display: inline-block !important;position: relative;}#sk-container-id-1 div.sk-text-repr-fallback {display: none;}</style><div id=\"sk-container-id-1\" class=\"sk-top-container\"><div class=\"sk-text-repr-fallback\"><pre>LogisticRegression(multi_class=&#x27;multinomial&#x27;)</pre><b>In a Jupyter environment, please rerun this cell to show the HTML representation or trust the notebook. <br />On GitHub, the HTML representation is unable to render, please try loading this page with nbviewer.org.</b></div><div class=\"sk-container\" hidden><div class=\"sk-item\"><div class=\"sk-estimator sk-toggleable\"><input class=\"sk-toggleable__control sk-hidden--visually\" id=\"sk-estimator-id-1\" type=\"checkbox\" checked><label for=\"sk-estimator-id-1\" class=\"sk-toggleable__label sk-toggleable__label-arrow\">LogisticRegression</label><div class=\"sk-toggleable__content\"><pre>LogisticRegression(multi_class=&#x27;multinomial&#x27;)</pre></div></div></div></div></div>"
      ],
      "text/plain": [
       "LogisticRegression(multi_class='multinomial')"
      ]
     },
     "execution_count": 16,
     "metadata": {},
     "output_type": "execute_result"
    }
   ],
   "source": [
    "model.fit(train_input,train_output)"
   ]
  },
  {
   "cell_type": "code",
   "execution_count": 17,
   "id": "c09faa43-c8f5-4c5a-b5a3-5fb1f73914ba",
   "metadata": {},
   "outputs": [],
   "source": [
    "arr = model.predict(test_input)"
   ]
  },
  {
   "cell_type": "code",
   "execution_count": 18,
   "id": "9dd7585c-3ab4-4f54-bb2c-42ca330e2812",
   "metadata": {},
   "outputs": [
    {
     "name": "stdout",
     "output_type": "stream",
     "text": [
      "['Iris-versicolor' 'Iris-setosa' 'Iris-virginica' 'Iris-versicolor'\n",
      " 'Iris-versicolor' 'Iris-setosa' 'Iris-versicolor' 'Iris-virginica'\n",
      " 'Iris-versicolor' 'Iris-versicolor' 'Iris-virginica' 'Iris-setosa'\n",
      " 'Iris-setosa' 'Iris-setosa' 'Iris-setosa' 'Iris-versicolor'\n",
      " 'Iris-virginica' 'Iris-versicolor' 'Iris-versicolor' 'Iris-virginica'\n",
      " 'Iris-setosa' 'Iris-virginica' 'Iris-setosa' 'Iris-virginica'\n",
      " 'Iris-virginica' 'Iris-virginica' 'Iris-virginica' 'Iris-virginica'\n",
      " 'Iris-setosa' 'Iris-setosa' 'Iris-setosa' 'Iris-setosa' 'Iris-versicolor'\n",
      " 'Iris-setosa' 'Iris-setosa' 'Iris-virginica' 'Iris-versicolor'\n",
      " 'Iris-setosa']\n"
     ]
    }
   ],
   "source": [
    "print(arr)"
   ]
  },
  {
   "cell_type": "code",
   "execution_count": 19,
   "id": "593538f9-e095-4d11-a4e2-ab5fa416815a",
   "metadata": {},
   "outputs": [],
   "source": [
    "prob = model.predict_proba(test_input)"
   ]
  },
  {
   "cell_type": "code",
   "execution_count": 20,
   "id": "e71efc02-fae3-4581-94f1-c3fac0117a25",
   "metadata": {},
   "outputs": [
    {
     "name": "stdout",
     "output_type": "stream",
     "text": [
      "[[3.96203029e-03 8.21858620e-01 1.74179350e-01]\n",
      " [9.44656227e-01 5.53434652e-02 3.07414314e-07]\n",
      " [1.17209961e-08 1.82759736e-03 9.98172391e-01]\n",
      " [6.61067844e-03 7.87162917e-01 2.06226405e-01]\n",
      " [1.52756406e-03 7.69482894e-01 2.28989542e-01]\n",
      " [9.53252146e-01 4.67475955e-02 2.58954258e-07]\n",
      " [7.73046633e-02 9.07215552e-01 1.54797846e-02]\n",
      " [1.73337477e-04 1.58925517e-01 8.40901145e-01]\n",
      " [2.32607696e-03 7.75008279e-01 2.22665644e-01]\n",
      " [2.87026381e-02 9.44113688e-01 2.71836737e-02]\n",
      " [4.59226687e-04 2.41311890e-01 7.58228883e-01]\n",
      " [9.66222207e-01 3.37776824e-02 1.10938728e-07]\n",
      " [9.71390646e-01 2.86093027e-02 5.10331278e-08]\n",
      " [9.59853509e-01 4.01463321e-02 1.58607549e-07]\n",
      " [9.78003936e-01 2.19959626e-02 1.01330690e-07]\n",
      " [4.64506704e-03 6.96757476e-01 2.98597457e-01]\n",
      " [8.29571052e-06 2.58669522e-02 9.74124752e-01]\n",
      " [2.76821967e-02 9.46693411e-01 2.56243925e-02]\n",
      " [8.46782987e-03 8.27130094e-01 1.64402077e-01]\n",
      " [1.64783300e-05 3.92308290e-02 9.60752693e-01]\n",
      " [9.62130901e-01 3.78688228e-02 2.75903723e-07]\n",
      " [1.36868596e-03 3.98888665e-01 5.99742649e-01]\n",
      " [9.59244299e-01 4.07553212e-02 3.79602655e-07]\n",
      " [2.13793122e-05 4.95670446e-02 9.50411576e-01]\n",
      " [1.74333128e-06 2.41402346e-02 9.75858022e-01]\n",
      " [1.02300150e-04 1.09619559e-01 8.90278141e-01]\n",
      " [1.04189605e-05 6.41063231e-02 9.35883258e-01]\n",
      " [4.86911427e-06 1.97302614e-02 9.80264869e-01]\n",
      " [9.64448006e-01 3.55518038e-02 1.90478446e-07]\n",
      " [9.53670533e-01 4.63291393e-02 3.27469678e-07]\n",
      " [9.93834994e-01 6.16499770e-03 8.05584801e-09]\n",
      " [9.81375270e-01 1.86246671e-02 6.33103288e-08]\n",
      " [6.61737736e-03 9.06699464e-01 8.66831587e-02]\n",
      " [9.67369573e-01 3.26302170e-02 2.10429108e-07]\n",
      " [9.84293432e-01 1.57065084e-02 5.99860761e-08]\n",
      " [3.41037123e-04 2.76826752e-01 7.22832211e-01]\n",
      " [7.08823972e-03 8.36226249e-01 1.56685511e-01]\n",
      " [9.66673039e-01 3.33268368e-02 1.23971484e-07]]\n"
     ]
    }
   ],
   "source": [
    "print(prob)"
   ]
  },
  {
   "cell_type": "code",
   "execution_count": 21,
   "id": "7b139807-1a44-4be5-b140-1a423f190b8f",
   "metadata": {},
   "outputs": [],
   "source": [
    "from sklearn.metrics import classification_report , confusion_matrix"
   ]
  },
  {
   "cell_type": "code",
   "execution_count": 22,
   "id": "b7d0907f-5699-459c-9264-6422114433ba",
   "metadata": {},
   "outputs": [
    {
     "name": "stdout",
     "output_type": "stream",
     "text": [
      "                 precision    recall  f1-score   support\n",
      "\n",
      "    Iris-setosa       1.00      1.00      1.00        15\n",
      "Iris-versicolor       1.00      1.00      1.00        11\n",
      " Iris-virginica       1.00      1.00      1.00        12\n",
      "\n",
      "       accuracy                           1.00        38\n",
      "      macro avg       1.00      1.00      1.00        38\n",
      "   weighted avg       1.00      1.00      1.00        38\n",
      "\n"
     ]
    }
   ],
   "source": [
    "print(classification_report(test_output , arr))"
   ]
  },
  {
   "cell_type": "code",
   "execution_count": 23,
   "id": "d7df775a-7261-4168-beac-7577beea11a2",
   "metadata": {},
   "outputs": [
    {
     "name": "stderr",
     "output_type": "stream",
     "text": [
      "C:\\Users\\DC\\AppData\\Local\\Programs\\Python\\Python312\\Lib\\site-packages\\sklearn\\base.py:465: UserWarning: X does not have valid feature names, but LogisticRegression was fitted with feature names\n",
      "  warnings.warn(\n"
     ]
    },
    {
     "data": {
      "text/plain": [
       "array(['Iris-virginica'], dtype=object)"
      ]
     },
     "execution_count": 23,
     "metadata": {},
     "output_type": "execute_result"
    }
   ],
   "source": [
    "model.predict([[5.1, 1.5,1.4,5.2]])"
   ]
  },
  {
   "cell_type": "code",
   "execution_count": 24,
   "id": "a8baf880-c4dc-4476-bad1-5d0b2c0e98de",
   "metadata": {},
   "outputs": [
    {
     "name": "stdout",
     "output_type": "stream",
     "text": [
      "[[15  0  0]\n",
      " [ 0 11  0]\n",
      " [ 0  0 12]]\n"
     ]
    }
   ],
   "source": [
    "print(confusion_matrix(test_output,arr))"
   ]
  },
  {
   "cell_type": "code",
   "execution_count": 26,
   "id": "20d6c545-6749-4287-9b42-09075cec7d04",
   "metadata": {},
   "outputs": [],
   "source": [
    "import pickle\n",
    "pickle.dump(model,open(\"model.pkl\",'wb'))"
   ]
  },
  {
   "cell_type": "code",
   "execution_count": null,
   "id": "c7a0a646-2aaf-4222-9215-2a3e118a68ae",
   "metadata": {},
   "outputs": [],
   "source": []
  }
 ],
 "metadata": {
  "kernelspec": {
   "display_name": "Python 3 (ipykernel)",
   "language": "python",
   "name": "python3"
  },
  "language_info": {
   "codemirror_mode": {
    "name": "ipython",
    "version": 3
   },
   "file_extension": ".py",
   "mimetype": "text/x-python",
   "name": "python",
   "nbconvert_exporter": "python",
   "pygments_lexer": "ipython3",
   "version": "3.12.1"
  }
 },
 "nbformat": 4,
 "nbformat_minor": 5
}
